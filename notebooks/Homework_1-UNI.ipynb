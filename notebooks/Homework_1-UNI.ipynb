{
 "cells": [
  {
   "cell_type": "markdown",
   "metadata": {},
   "source": [
    "# Homework 1\n",
    "\n",
    "## [Name] - [UNI]\n",
    "\n",
    "### Due: Thurs Oct 22nd 11:59pm ET"
   ]
  },
  {
   "cell_type": "markdown",
   "metadata": {},
   "source": [
    "In this homework we'll do some data exploration and perform an A/B test.\n",
    "\n",
    "\n",
    "## Instructions\n",
    "\n",
    "Replace Name and UNI in the first cell with your UNI and in the filename with your UNI.\n",
    "\n",
    "Follow the comments below and fill in the blanks (____) to complete.\n",
    "\n",
    "Where a text response is asked for, please enter as a comment, starting each line with #."
   ]
  },
  {
   "cell_type": "markdown",
   "metadata": {},
   "source": [
    "# Environment Setup"
   ]
  },
  {
   "cell_type": "code",
   "execution_count": null,
   "metadata": {},
   "outputs": [],
   "source": [
    "import pandas as pd\n",
    "import numpy as np\n",
    "import seaborn as sns\n",
    "import matplotlib.pylab as plt\n",
    "\n",
    "sns.set_style('darkgrid')\n",
    "\n",
    "%matplotlib inline"
   ]
  },
  {
   "cell_type": "markdown",
   "metadata": {},
   "source": [
    "## Part 1: Data Exploration\n",
    "\n",
    "One data science task, and a common one used for data science interviews, is to predict defaults on loans.<br>\n",
    "We're going to load a subset of a common loan dataset and explore some of the features.\n",
    "\n",
    "Here is a brief description of the features included:\n",
    "\n",
    "- **loan_amnt**: The amount of money applied for\n",
    "- **term**: The period over which the load should be repaid\n",
    "- **annual_inc**: Annual income of the borrower\n",
    "- **purpose**: The purpose of the loan, such as: credit_card, debt_consolidation, etc.\n",
    "- **home_ownership**: The borrower's relationship with their primary residence\n",
    "- **outcome**: The result of the loan"
   ]
  },
  {
   "cell_type": "code",
   "execution_count": null,
   "metadata": {},
   "outputs": [],
   "source": [
    "# 1. (1pt) Load the data from ../data/loan_data_subset.csv into the variable df using the default separator ','\n",
    "\n",
    "df = ____"
   ]
  },
  {
   "cell_type": "code",
   "execution_count": null,
   "metadata": {},
   "outputs": [],
   "source": [
    "# 2. (1pt) Using .shape, how many rows does the dataset have?\n",
    "\n",
    "print(f'dataframe has {____} rows')"
   ]
  },
  {
   "cell_type": "code",
   "execution_count": null,
   "metadata": {},
   "outputs": [],
   "source": [
    "# 3. (1pt) Display the first 3 rows of the dataset using .head()\n",
    "\n",
    "____"
   ]
  },
  {
   "cell_type": "code",
   "execution_count": null,
   "metadata": {},
   "outputs": [],
   "source": [
    "# 4. (1pt) What's an example of a numeric feature included in the dataset (column label)?\n",
    "\n",
    "# ____"
   ]
  },
  {
   "cell_type": "code",
   "execution_count": null,
   "metadata": {},
   "outputs": [],
   "source": [
    "# 5. (1pt) What's an example of a  categorical feature in the dataset?\n",
    "\n",
    "# ____"
   ]
  },
  {
   "cell_type": "code",
   "execution_count": null,
   "metadata": {},
   "outputs": [],
   "source": [
    "# 6. (1pt) To practice indexing, \n",
    "#   display rows with labels 100 to 102 inclusive, with all columns, using .loc\n",
    "#   Note that we're using row labels and not positional index, so use .loc instead of .iloc\n",
    "#   We should see 3 rows printed.\n",
    "\n",
    "____"
   ]
  },
  {
   "cell_type": "code",
   "execution_count": null,
   "metadata": {},
   "outputs": [],
   "source": [
    "# 7. (3pt) For more practice, \n",
    "#    display the top 3 rows sorted by 'annual_inc' descending, only columns ['loan_amnt','annual_inc','outcome'] \n",
    "#    We should see the 3 rows with highest annual_inc and only the three columns specified.\n",
    "\n",
    "____"
   ]
  },
  {
   "cell_type": "code",
   "execution_count": null,
   "metadata": {},
   "outputs": [],
   "source": [
    "# 8. (3pt) To practice boolean indexing, \n",
    "#    find the mean annal_inc for rows with:\n",
    "#        loan_amnt greater than the median loan_amnt and\n",
    "#        outcome of 'paid off' and\n",
    "#        home_ownership of 'MORTGATE' or 'OWN'\n",
    "\n",
    "mean_annual_inc = ____\n",
    "\n",
    "# Print the mean annual income found with precision of 2\n",
    "print(f'{mean_annual_inc=:0.2f}')"
   ]
  },
  {
   "cell_type": "code",
   "execution_count": null,
   "metadata": {},
   "outputs": [],
   "source": [
    "# 9. (1pt) Calculate the frequencies of the different values seen in the column 'purpose' using .value_counts()\n",
    "#    Store in purpose counts.\n",
    "\n",
    "purpose_counts = ____\n",
    "\n",
    "print(purpose_counts)"
   ]
  },
  {
   "cell_type": "code",
   "execution_count": null,
   "metadata": {},
   "outputs": [],
   "source": [
    "# 10. (2pt) Plot the frequency of each of the categories seen in 'purpose' using sns.countplot()\n",
    "#   Order by bars by the index of purpose_counts calculated in the cell above, \n",
    "#      which is sorted by frequency by default. (use the order= argument in sns.countplot())\n",
    "#   Because there are many values, and some of the labels are long, \n",
    "#      place 'purpose' on the y-axis instead of the x-axis (use y= instead of x=).\n",
    "\n",
    "____"
   ]
  },
  {
   "cell_type": "code",
   "execution_count": null,
   "metadata": {},
   "outputs": [],
   "source": [
    "# 11. (1pt) Display the summary statistics of the annual_inc column using .describe()\n",
    "\n",
    "____"
   ]
  },
  {
   "cell_type": "code",
   "execution_count": null,
   "metadata": {},
   "outputs": [],
   "source": [
    "# 12. (2pt) There appears to be a fairly large difference between mean and median.\n",
    "#   Print out the absolute difference in mean annual_inc and median annual_inc to a precision of 2\n",
    "\n",
    "annual_inc_mean = ____\n",
    "\n",
    "annual_inc_median = ____\n",
    "\n",
    "print(f'absolute difference = {____}')"
   ]
  },
  {
   "cell_type": "code",
   "execution_count": null,
   "metadata": {},
   "outputs": [],
   "source": [
    "# 13. (2pt) Display a boxplot of annual_inc using sns.boxplot.\n",
    "\n",
    "#  To strech the plot wider, use plt.subplots to generate 1 row with 1 column of axes with a figsize of (12,4)\n",
    "fig,ax = ____\n",
    "\n",
    "#  Plot a boxplot of annual_inc using ax\n",
    "____"
   ]
  },
  {
   "cell_type": "code",
   "execution_count": null,
   "metadata": {},
   "outputs": [],
   "source": [
    "# 14. (1pt) We'll remove some of records with the highest annual_inc, treating them as outliers.\n",
    "#    What is the 95th percentile of annual_inc? (use .percentile from numpy or .quantile from pandas)\n",
    "#    Eg. Where is the cutoff where we remove extremely high values but keep 95% of the data?\n",
    "\n",
    "annual_inc_95 = ____\n",
    "\n",
    "print(f'95th percentile of annual_inc: {annual_inc_95:0.2f}')"
   ]
  },
  {
   "cell_type": "code",
   "execution_count": null,
   "metadata": {},
   "outputs": [],
   "source": [
    "# 15. (3pt) Plot loan_amnt (x-axis) against annual_inc (y-axis) using sns.jointplot()\n",
    "#     only including rows where annual_inc < annual_inc_95\n",
    "#     set alpha=0.1 to make marks transparent.\n",
    "#  Note that the histogram of annual_inc is now much less right skewed (fewer very high values).\n",
    "#  We should see quite a bit of structure (places where dots overlap) in the central plot (eg. common loan amounts)\n",
    "\n",
    "____"
   ]
  },
  {
   "cell_type": "code",
   "execution_count": null,
   "metadata": {},
   "outputs": [],
   "source": [
    "# 16. (2pt) As we saw above, 'debt_consolidation' is the most common purpose for a loan.\n",
    "#    What is the mean loan_amnt where:\n",
    "#    df.purpose == 'debt_consolidation' and df.annual_inc < annual_inc_95?\n",
    "\n",
    "amnt = ____\n",
    "\n",
    "print(f'mean loan amount for debt consolidation for most annual incomes: {amnt:0.2f}')"
   ]
  },
  {
   "cell_type": "code",
   "execution_count": null,
   "metadata": {},
   "outputs": [],
   "source": [
    "# 17. (5pt) One purpose of this dataset is to attempt to predict loan outcome.\n",
    "\n",
    "# We'd like to know if loan_amnt differs at all by outcome\n",
    "# Here, we'll create 2 plots, one of loan_amnt overall and another with loan_amnt by outcome.\n",
    "\n",
    "# Create a subplot with 1 row and 2 columns with figsize of (12,4) and capture the fig and ax return as fig,ax\n",
    "____\n",
    "\n",
    "# On the first axis (ax[0]) use sns.histplot() to plot the distribution of loan_amnt\n",
    "____\n",
    "\n",
    "# Set the title on the first plot to be 'Loan Amount Overall'\n",
    "____\n",
    "\n",
    "# On the second axis (ax[1]) use sns.boxplot() to compare the distribution of loan_amnt by outcome\n",
    "#   Place 'loan_amnt' on the x-axis and 'outcome' on the y-axis and use the full df as the dataset.\n",
    "____\n",
    "\n",
    "# Set the title on the second plot to be 'Loan Amount by Outcome'\n",
    "____"
   ]
  },
  {
   "cell_type": "markdown",
   "metadata": {},
   "source": [
    "## Part 2: Hypothesis Testing with an A/B test"
   ]
  },
  {
   "cell_type": "markdown",
   "metadata": {},
   "source": [
    "Suppose we work at a large company that is developing online data science tools.\n",
    "\n",
    "Currently the tool has interface type A but we'd like to know if using interface tool B might be more efficient.\n",
    "To measure this, we'll look at length of active work on a project (aka project length).\n",
    "\n",
    "We'll perform an A/B test where half of the projects will use interface A and half will use interface B."
   ]
  },
  {
   "cell_type": "code",
   "execution_count": null,
   "metadata": {},
   "outputs": [],
   "source": [
    "# 18. (1pt) Read in project lengths from '../data/project_lengths_long.tsv' into df_proj using read_csv\n",
    "#   Note that this is a tsv (Tab Separated File) so you'll need to use '\\t' as the separator (sep='\\t')\n",
    "\n",
    "df_proj = ____\n",
    "\n",
    "#   Display the first 3 rows using .head()\n",
    "____"
   ]
  },
  {
   "cell_type": "code",
   "execution_count": null,
   "metadata": {},
   "outputs": [],
   "source": [
    "# 19. (3pt) Calculate the difference in mean project length between interface A and B (mean A - mean B)\n",
    "\n",
    "observed_mean_diff = ____\n",
    "\n",
    "# Print the result with a precision of 2\n",
    "____"
   ]
  },
  {
   "cell_type": "code",
   "execution_count": null,
   "metadata": {},
   "outputs": [],
   "source": [
    "# 20. (5pt) We'll perform a permutation test to see how significant this result is\n",
    "#    by generating 10,000 random permutation samples of mean difference\n",
    "\n",
    "rand_mean_diffs = [] \n",
    "n_samples = 10_000\n",
    "n_A = ____ # the number of observations for Interface A\n",
    "\n",
    "for i in range(n_samples):\n",
    "    \n",
    "    # Get a random permutation of df_proj.Length\n",
    "    # Use pandas sample with random_state == i (the index of the loop) for grading\n",
    "    # Remember: sample size should be the same as the original dataset\n",
    "    #           and we should be sampling without replacement\n",
    "    rand_perm = ____\n",
    "    \n",
    "    # Take the mean of the first n_A random values\n",
    "    rand_mean_A = ____\n",
    "    \n",
    "    # Take the mean of the remaining random values\n",
    "    rand_mean_B = ____\n",
    "    \n",
    "    # Append the difference (rand_mean_A - rand_mean_B) to rand_mean_diffs\n",
    "    ____\n",
    "    \n",
    "# Convert rand_mean_diffs into a numpy array so we can use numpy functions\n",
    "rand_mean_diffs = np.array(rand_mean_diffs)\n",
    "    \n",
    "# check that we have the correct amount of data by asserting that the length of rand_mean_diffs == n_samples\n",
    "assert len(rand_mean_diffs) == n_samples\n",
    "\n",
    "# Display the first three values in rand_mean_diffs so we know when it's done.\n",
    "rand_mean_diffs[:3]"
   ]
  },
  {
   "cell_type": "code",
   "execution_count": null,
   "metadata": {},
   "outputs": [],
   "source": [
    "# 21. (5pt) Before we plot the data, let's transform all values to their z-score\n",
    "\n",
    "# Calculate the sample mean of our rand_mean_diffs using .mean()\n",
    "mean_rand_mean_diffs = ____\n",
    "\n",
    "# Calculate the sample standard deviation using .std()\n",
    "std_rand_mean_diffs = ____\n",
    "\n",
    "# Transform rand_mean_diffs to rand_mean_diffs_zscore by subtracting the mean and dividing by the std dev\n",
    "rand_mean_diffs_zscore = ____\n",
    "\n",
    "# Transform the observed_mean_diff as well by subtracting the mean and dividing by the std dev\n",
    "observed_mean_diff_zscore = ____\n",
    "\n",
    "# To check our transformation, check that the zscore mean is near 0 and std dev is near 1\n",
    "assert rand_mean_diffs_zscore.mean() - 0 < .0001\n",
    "assert rand_mean_diffs_zscore.std() - 1 < .0001"
   ]
  },
  {
   "cell_type": "code",
   "execution_count": null,
   "metadata": {},
   "outputs": [],
   "source": [
    "# 22. (2pt) Plot our observed metric against our samples.\n",
    "\n",
    "# Use seaborn histplot to plot the distribution of rand_mean_diffs_zscore\n",
    "#    capture the return in ax\n",
    "____\n",
    "\n",
    "# Use ax.axvline to plot a red line at our observed_mean_diff_zscore\n",
    "____"
   ]
  },
  {
   "cell_type": "code",
   "execution_count": null,
   "metadata": {},
   "outputs": [],
   "source": [
    "# 23. (3pt) The plot seems to indicate a potential difference in scores. What is the p-value?\n",
    "#    Calculate a two-tailed p_value\n",
    "#    using np.abs(), rand_mean_diffs, observed_mean_diff and n_samples\n",
    "p_value = ____\n",
    "\n",
    "# print p_value with a precision of 3\n",
    "____"
   ]
  }
 ],
 "metadata": {
  "kernelspec": {
   "display_name": "eods-f20",
   "language": "python",
   "name": "eods-f20"
  },
  "language_info": {
   "codemirror_mode": {
    "name": "ipython",
    "version": 3
   },
   "file_extension": ".py",
   "mimetype": "text/x-python",
   "name": "python",
   "nbconvert_exporter": "python",
   "pygments_lexer": "ipython3",
   "version": "3.8.5"
  }
 },
 "nbformat": 4,
 "nbformat_minor": 2
}
